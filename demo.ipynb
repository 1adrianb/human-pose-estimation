{
 "cells": [
  {
   "cell_type": "code",
   "execution_count": null,
   "metadata": {
    "collapsed": false,
    "deletable": true,
    "editable": true
   },
   "outputs": [],
   "source": [
    "require 'torch'\n",
    "require 'xlua'\n",
    "require 'paths'\n",
    "require 'image'\n",
    "py = require 'fb.python'\n",
    "optnet = require 'optnet'\n",
    "require('cudnn')\n",
    "require 'transform'\n",
    "data = require 'data'"
   ]
  },
  {
   "cell_type": "markdown",
   "metadata": {
    "deletable": true,
    "editable": true
   },
   "source": [
    "# Retrieve dataset and models parameters"
   ]
  },
  {
   "cell_type": "code",
   "execution_count": null,
   "metadata": {
    "collapsed": false,
    "deletable": true,
    "editable": true
   },
   "outputs": [],
   "source": [
    "dataset = 'lsp'\n",
    "\n",
    "torch.setdefaulttensortype('torch.FloatTensor')\n",
    "opts = {dataset=dataset, demo=true, res=256}\n",
    "opts_mem = {inplace=true, reuseBuffers=true, mode='inference'}\n",
    "activThresh = 0.003\n",
    "\n",
    "data.checkIntegrity(opts)"
   ]
  },
  {
   "cell_type": "markdown",
   "metadata": {
    "deletable": true,
    "editable": true
   },
   "source": [
    "# Build model"
   ]
  },
  {
   "cell_type": "code",
   "execution_count": null,
   "metadata": {
    "collapsed": false,
    "deletable": true,
    "editable": true
   },
   "outputs": [],
   "source": [
    "model = nil\n",
    "if opts.dataset == 'mpii' then\n",
    "  model = torch.load('models/human_pose_mpii.t7')\n",
    "else \n",
    "  model = torch.load('models/human_pose_lsp.t7')\n",
    "end\n",
    "\n",
    "model = model:cuda()\n",
    "cudnn.fastest = true\n",
    "cudnn.convert(model, cudnn)\n",
    "\n",
    "optnet.optimizeMemory(model, torch.zeros(1,3,opts.res,opts.res):cuda(), opts_mem)\n",
    "model:evaluate()\n",
    "\n",
    "if opts.dataset == 'mpii' then\n",
    "    dataset = torch.load('dataset/mpii_dataset.t7')\n",
    "else\n",
    "    dataset = torch.load('dataset/lsp_dataset.t7')\n",
    "end"
   ]
  },
  {
   "cell_type": "code",
   "execution_count": null,
   "metadata": {
    "collapsed": false,
    "deletable": true,
    "editable": true
   },
   "outputs": [],
   "source": [
    "valDataset = {}\n",
    "for i=1,#dataset do\n",
    "  if dataset[i].type == 0 then\n",
    "    valDataset[#valDataset+1] = dataset[i]\n",
    "    \n",
    "    -- If LSP map points to MPII order\n",
    "    if opts.dataset == 'lsp' then\n",
    "      local temp_pts = valDataset[#valDataset].points:clone():view(14,2)\n",
    "      local pts = torch.zeros(16,2)\n",
    "      pts[{{1,6},{}}] = temp_pts[{{1,6},{}}]\n",
    "      pts[{{11,16},{}}] = temp_pts[{{7,12},{}}]\n",
    "      pts[{{9,10},{}}] = temp_pts[{{13,14},{}}]\n",
    "      valDataset[#valDataset].points = pts\n",
    "      valDataset[#valDataset]['headSize'] = torch.dist(pts[{{14},{}}],pts[{{3},{}}])\n",
    "      valDataset[#valDataset]['image'] = string.format(\"im%04d.jpg\",i)\n",
    "    end\n",
    "  end\n",
    "end\n",
    "\n",
    "ids = torch.range(1,#valDataset)"
   ]
  },
  {
   "cell_type": "markdown",
   "metadata": {
    "deletable": true,
    "editable": true
   },
   "source": [
    "# Evaluate"
   ]
  },
  {
   "cell_type": "code",
   "execution_count": null,
   "metadata": {
    "collapsed": false,
    "deletable": true,
    "editable": true,
    "scrolled": true
   },
   "outputs": [],
   "source": [
    "local n = ids:size()[1]\n",
    "predictions = torch.Tensor(n,16,2)\n",
    "\n",
    "for i=1,n do\n",
    "  -- Load and prepare the data\n",
    "  local img = nil\n",
    "  if opts.dataset == 'mpii' then\n",
    "    img = image.load('dataset/mpii_dataset/images/'..valDataset[ids[i]].image)\n",
    "  else\n",
    "    img = image.load('dataset/lsp_dataset/images/'..valDataset[ids[i]].image)\n",
    "  end\n",
    "  local center = (function() if opts.dataset =='mpii' then return valDataset[ids[i]].center else return torch.Tensor({img:size()[3]/2,img:size()[2]/2}) end end)() \n",
    "  local scale = (function() if opts.dataset =='mpii' then return valDataset[ids[i]].scale else return 0.89 end end)() \n",
    "  local input = crop(img, center, scale, opts.res)\n",
    "  input = (function() return input:cuda() end)()\n",
    "  \n",
    "  -- Do the forward pass and get the predicitons\n",
    "  local output = model:forward(input:view(1, 3, opts.res, opts.res))\n",
    "  \n",
    "  output = applyFn(function (x) return x:clone() end, output)\n",
    "  local flippedOut = nil\n",
    "  flippedOut = model:forward(flip(input:view(1,3,opts.res,opts.res):cuda()))\n",
    "  flippedOut = applyFn(function (x) return flip(shuffleLR(x)) end, flippedOut)\n",
    "  output = applyFn(function (x,y) return x:add(y):div(2) end, output, flippedOut):float()\n",
    "\n",
    "  output[output:lt(0)] = 0\n",
    "  \n",
    "  local preds_hm, preds_img = getPreds(output[1], center, scale)\n",
    "  predictions[{{i},{},{}}] = preds_img\n",
    "  \n",
    "  collectgarbage()\n",
    "end"
   ]
  },
  {
   "cell_type": "code",
   "execution_count": null,
   "metadata": {
    "collapsed": false,
    "deletable": true,
    "editable": true,
    "scrolled": true
   },
   "outputs": [],
   "source": [
    "local distance = evaluate(predictions,valDataset)\n",
    "local metrics = calculateMetrics(distance,opts)\n",
    "\n",
    "print(metrics)"
   ]
  },
  {
   "cell_type": "markdown",
   "metadata": {},
   "source": [
    "# Preview predictions"
   ]
  },
  {
   "cell_type": "code",
   "execution_count": null,
   "metadata": {
    "collapsed": false,
    "deletable": true,
    "editable": true,
    "scrolled": false
   },
   "outputs": [],
   "source": [
    "Plot = require('itorch.Plot')\n",
    "\n",
    "local i = 25\n",
    "\n",
    "local img = nil\n",
    "if opts.dataset == 'mpii' then\n",
    "img = image.load('dataset/mpii_dataset/images/'..valDataset[ids[i]].image)\n",
    "else\n",
    "img = image.load('dataset/lsp_dataset/images/'..valDataset[ids[i]].image)\n",
    "end\n",
    "local center = (function() if opts.dataset =='mpii' then return valDataset[ids[i]].center else return torch.Tensor({img:size()[3]/2,img:size()[2]/2}) end end)() \n",
    "local scale = (function() if opts.dataset =='mpii' then return valDataset[ids[i]].scale else return 0.89 end end)() \n",
    "local input = crop(img, center, scale, opts.res)\n",
    "input = (function() return input:cuda() end)()\n",
    "\n",
    "-- Do the forward pass and get the predicitons\n",
    "local output = model:forward(input:view(1, 3, opts.res, opts.res))\n",
    "\n",
    "output = applyFn(function (x) return x:clone() end, output)\n",
    "local flippedOut = nil\n",
    "flippedOut = model:forward(flip(input:view(1,3,opts.res,opts.res):cuda()))\n",
    "flippedOut = applyFn(function (x) return flip(shuffleLR(x)) end, flippedOut)\n",
    "output = applyFn(function (x,y) return x:add(y):div(2) end, output, flippedOut):float()\n",
    "\n",
    "output[output:lt(0)] = 0\n",
    "\n",
    "local preds_hm, preds_img = getPreds(output[1], center, scale)\n",
    "\n",
    "for i=1, 16 do\n",
    "    img[{{},\n",
    "         {preds_img[{1, i, 2}] - 2, preds_img[{1, i, 2}] + 2},\n",
    "         {preds_img[{1, i, 1}] - 2, preds_img[{1, i, 1}] + 2}}] = 0\n",
    "    img[{{2},\n",
    "         {preds_img[{1, i, 2}] - 2, preds_img[{1, i, 2}] + 2},\n",
    "         {preds_img[{1, i, 1}] - 2, preds_img[{1, i, 1}] + 2}}] = 1\n",
    "    for c=1, 3 do\n",
    "        img[{{2, 3},\n",
    "             {preds_img[{1, i, 2}] - 1, preds_img[{1, i, 2}] + 1},\n",
    "             {preds_img[{1, i, 1}] - 1, preds_img[{1, i, 1}] + 1}}] = 0\n",
    "    end\n",
    "end\n",
    "    \n",
    "\n",
    "itorch.image({img})"
   ]
  }
 ],
 "metadata": {
  "kernelspec": {
   "display_name": "iTorch",
   "language": "lua",
   "name": "itorch"
  },
  "language_info": {
   "name": "lua",
   "version": "5.1"
  }
 },
 "nbformat": 4,
 "nbformat_minor": 2
}
